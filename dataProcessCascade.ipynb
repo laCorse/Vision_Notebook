{
 "cells": [
  {
   "cell_type": "markdown",
   "metadata": {},
   "source": [
    "# 级联分类器处理脚本\n",
    "- 利用albumentations对图像进行增强、剪裁"
   ]
  },
  {
   "cell_type": "code",
   "execution_count": 1,
   "metadata": {},
   "outputs": [],
   "source": [
    "from __future__ import print_function, absolute_import\n",
    "import albumentations as A\n",
    "import os.path as osp\n",
    "import cv2\n",
    "import glob\n",
    "import re\n",
    "from matplotlib import pyplot as plt\n",
    "import random"
   ]
  },
  {
   "cell_type": "code",
   "execution_count": 2,
   "metadata": {},
   "outputs": [],
   "source": [
    "class DataProcessor:\n",
    "    def __init__(self, input_path, output_path):\n",
    "        self.input_path = input_path\n",
    "        self.output_path = output_path\n",
    "        self.img_paths = glob.glob(osp.join(input_path, '*.jpg'))\n",
    "        self.transform = A.Compose([\n",
    "            A.OneOf([\n",
    "                A.IAAAdditiveGaussianNoise(),\n",
    "                A.GaussNoise(),\n",
    "                A.MotionBlur(p=0.2)\n",
    "            ], p=0.4),\n",
    "            A.OneOf([\n",
    "                A.OpticalDistortion(p=0.3),\n",
    "                A.GridDistortion(p=.1),\n",
    "                A.IAAPiecewiseAffine(p=0.3),\n",
    "            ], p=0.3),\n",
    "            A.OneOf([\n",
    "                A.CLAHE(clip_limit=2),\n",
    "                A.IAASharpen(),\n",
    "                A.IAAEmboss(),\n",
    "                A.RandomBrightnessContrast(),\n",
    "            ], p=0.3),\n",
    "            A.HorizontalFlip(p=0.5),\n",
    "            A.RandomBrightnessContrast(p=0.5),\n",
    "            A.Resize(height=64, width=64)\n",
    "        ])\n",
    "\n",
    "\n",
    "    def cutAndAugment(self):\n",
    "        num = 0\n",
    "\n",
    "        for img_path in self.img_paths:\n",
    "            image = cv2.imread(img_path)\n",
    "            r = cv2.selectROI('roi',image,False,False)\n",
    "            image_roi = image[int(r[1]):int(r[1]+r[3]),int(r[0]):int(r[0]+r[2])]\n",
    "            image_roi = cv2.cvtColor(image_roi, cv2.COLOR_BGR2RGB)\n",
    "            # 一张图增强为5张图\n",
    "            for i in range(5):\n",
    "                num += 1\n",
    "                transformed = self.transform(image=image_roi)\n",
    "                image_trans = transformed[\"image\"]\n",
    "                image_trans = cv2.cvtColor(image_trans, cv2.COLOR_RGB2GRAY)\n",
    "                outname = self.output_path + str(num) + \".jpg\"\n",
    "                cv2.imwrite(outname, image_trans)"
   ]
  },
  {
   "cell_type": "code",
   "execution_count": 3,
   "metadata": {},
   "outputs": [],
   "source": [
    "processor = DataProcessor(input_path=\"/home/qianchen/ssd/workspace/code/image/\",output_path=\"/home/qianchen/ssd/workspace/code/DataAfter/\")\n",
    "processor.cutAndAugment()"
   ]
  },
  {
   "cell_type": "code",
   "execution_count": 2,
   "metadata": {},
   "outputs": [],
   "source": [
    "class DataProcessorNeg:\n",
    "    def __init__(self, input_path, output_path):\n",
    "        self.input_path = input_path\n",
    "        self.output_path = output_path\n",
    "        self.img_paths = glob.glob(osp.join(input_path, '*.jpg'))\n",
    "        self.transform = A.Compose([\n",
    "            A.OneOf([\n",
    "                A.IAAAdditiveGaussianNoise(),\n",
    "                A.GaussNoise(),\n",
    "                A.MotionBlur(p=0.2)\n",
    "            ], p=0.5),\n",
    "            A.OneOf([\n",
    "                A.OpticalDistortion(p=0.3),\n",
    "                A.GridDistortion(p=.1),\n",
    "                A.IAAPiecewiseAffine(p=0.3),\n",
    "            ], p=0.5),\n",
    "            A.OneOf([\n",
    "                A.CLAHE(clip_limit=2),\n",
    "                A.IAASharpen(),\n",
    "                A.IAAEmboss(),\n",
    "                A.RandomBrightnessContrast(),\n",
    "            ], p=0.5),\n",
    "            A.HorizontalFlip(p=0.5),\n",
    "            A.RandomBrightnessContrast(p=0.5),\n",
    "            A.Resize(height=640, width=520)\n",
    "        ])\n",
    "\n",
    "\n",
    "    def cutAndAugment(self):\n",
    "        num = 0\n",
    "        for img_path in self.img_paths:\n",
    "            image = cv2.imread(img_path)\n",
    "            r = cv2.selectROI('roi',image,False,False)\n",
    "            image_roi = image[int(r[1]):int(r[1]+r[3]),int(r[0]):int(r[0]+r[2])]\n",
    "            image_roi = cv2.cvtColor(image_roi, cv2.COLOR_BGR2RGB)\n",
    "            # 一张图增强为5张图\n",
    "            for i in range(6):\n",
    "                num += 1\n",
    "                transformed = self.transform(image=image_roi)\n",
    "                image_trans = transformed[\"image\"]\n",
    "                image_trans = cv2.cvtColor(image_trans, cv2.COLOR_RGB2GRAY)\n",
    "                outname = self.output_path + str(num) + \".jpg\"\n",
    "                cv2.imwrite(outname, image_trans)"
   ]
  },
  {
   "cell_type": "code",
   "execution_count": null,
   "metadata": {},
   "outputs": [],
   "source": [
    "processor = DataProcessorNeg(input_path=\"/media/qianchen/My Passport/image\",output_path=\"/home/qianchen/ssd/workspace/code/trainCascadeInfantry/neg/\")\n",
    "processor.cutAndAugment()"
   ]
  },
  {
   "cell_type": "code",
   "execution_count": null,
   "metadata": {},
   "outputs": [],
   "source": []
  }
 ],
 "metadata": {
  "kernelspec": {
   "display_name": "Python (opencv4)",
   "language": "python",
   "name": "opencv4"
  },
  "language_info": {
   "codemirror_mode": {
    "name": "ipython",
    "version": 3
   },
   "file_extension": ".py",
   "mimetype": "text/x-python",
   "name": "python",
   "nbconvert_exporter": "python",
   "pygments_lexer": "ipython3",
   "version": "3.7.6"
  }
 },
 "nbformat": 4,
 "nbformat_minor": 2
}
